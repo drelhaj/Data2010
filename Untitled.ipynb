{
 "cells": [
  {
   "cell_type": "code",
   "execution_count": 1,
   "id": "107abaf7-3813-4479-9ad0-533bf123bc88",
   "metadata": {},
   "outputs": [
    {
     "data": {
      "text/plain": [
       "   Min. 1st Qu.  Median    Mean 3rd Qu.    Max. \n",
       "     65      70      80      78      85      90 "
      ]
     },
     "metadata": {},
     "output_type": "display_data"
    },
    {
     "data": {
      "image/png": "[encoded data removed]",
      "text/plain": [
       "Plot with title \"Exam Scores\""
      ]
     },
     "metadata": {
      "image/png": {
       "height": 420,
       "width": 420
      }
     },
     "output_type": "display_data"
    }
   ],
   "source": [
    "scores <- data.frame(\n",
    "  name = c(\"Alice\",\"Bob\",\"Cara\",\"Dan\",\"Ella\"),\n",
    "  score = c(80,65,90,70,85)\n",
    ")\n",
    "\n",
    "summary(scores$score)\n",
    "\n",
    "barplot(scores$score, names.arg = scores$name,\n",
    "        col = \"skyblue\", main = \"Exam Scores\",\n",
    "        ylab = \"Score\")"
   ]
  },
  {
   "cell_type": "code",
   "execution_count": 10,
   "id": "bed62a05-5f56-4bbf-ab59-559ef28f03ae",
   "metadata": {},
   "outputs": [
    {
     "name": "stderr",
     "output_type": "stream",
     "text": [
      "\n",
      "\n",
      "processing file: report.Rmd\n",
      "\n"
     ]
    },
    {
     "name": "stdout",
     "output_type": "stream",
     "text": [
      "1/2                  \n",
      "2/2 [unnamed-chunk-1]\n"
     ]
    },
    {
     "name": "stderr",
     "output_type": "stream",
     "text": [
      "output file: report.knit.md\n",
      "\n",
      "\n"
     ]
    },
    {
     "name": "stdout",
     "output_type": "stream",
     "text": [
      "\"C:/Program Files/Pandoc/pandoc\" +RTS -K512m -RTS report.knit.md --to docx --from markdown+autolink_bare_uris+tex_math_single_backslash --output report.docx --lua-filter \"C:\\Users\\Mo\\AppData\\Local\\R\\win-library\\4.5\\rmarkdown\\rmarkdown\\lua\\pagebreak.lua\" --highlight-style tango \n"
     ]
    },
    {
     "name": "stderr",
     "output_type": "stream",
     "text": [
      "\n",
      "Output created: report.docx\n",
      "\n"
     ]
    }
   ],
   "source": [
    "library(rmarkdown)\n",
    "render(\"report.Rmd\")"
   ]
  },
  {
   "cell_type": "code",
   "execution_count": 5,
   "id": "d4acb542-7334-4daa-ad80-087d3372cfc0",
   "metadata": {},
   "outputs": [],
   "source": [
    "Sys.setenv(PANDOC = \"C:/Program Files/Pandoc/pandoc.exe\")"
   ]
  },
  {
   "cell_type": "code",
   "execution_count": 9,
   "id": "d7ac1a16-f64f-4c3f-9311-fd07b0b73134",
   "metadata": {},
   "outputs": [
    {
     "data": {
      "text/plain": [
       "$version\n",
       "[1] '3.8'\n",
       "\n",
       "$dir\n",
       "[1] \"C:/Program Files/Pandoc\"\n"
      ]
     },
     "metadata": {},
     "output_type": "display_data"
    },
    {
     "data": {
      "text/html": [
       "TRUE"
      ],
      "text/latex": [
       "TRUE"
      ],
      "text/markdown": [
       "TRUE"
      ],
      "text/plain": [
       "[1] TRUE"
      ]
     },
     "metadata": {},
     "output_type": "display_data"
    },
    {
     "data": {
      "text/plain": [
       "[1] '3.8'"
      ]
     },
     "metadata": {},
     "output_type": "display_data"
    },
    {
     "data": {
      "text/html": [
       "0"
      ],
      "text/latex": [
       "0"
      ],
      "text/markdown": [
       "0"
      ],
      "text/plain": [
       "[1] 0"
      ]
     },
     "metadata": {},
     "output_type": "display_data"
    },
    {
     "data": {
      "text/html": [
       "<strong>pandoc:</strong> 'C:\\\\PROGRA~1\\\\Pandoc\\\\pandoc.exe'"
      ],
      "text/latex": [
       "\\textbf{pandoc:} 'C:\\textbackslash{}\\textbackslash{}PROGRA\\textasciitilde{}1\\textbackslash{}\\textbackslash{}Pandoc\\textbackslash{}\\textbackslash{}pandoc.exe'"
      ],
      "text/markdown": [
       "**pandoc:** 'C:\\\\PROGRA~1\\\\Pandoc\\\\pandoc.exe'"
      ],
      "text/plain": [
       "                            pandoc \n",
       "\"C:\\\\PROGRA~1\\\\Pandoc\\\\pandoc.exe\" "
      ]
     },
     "metadata": {},
     "output_type": "display_data"
    }
   ],
   "source": [
    "pandoc_path <- \"C:/Program Files/Pandoc/pandoc.exe\"   # <- use your actual path\n",
    "\n",
    "# Tell rmarkdown explicitly:\n",
    "Sys.setenv(PANDOC = pandoc_path)\n",
    "Sys.setenv(RSTUDIO_PANDOC = dirname(pandoc_path))\n",
    "\n",
    "# Put Pandoc's folder at the front of PATH for this session:\n",
    "Sys.setenv(PATH = paste(dirname(pandoc_path), Sys.getenv(\"PATH\"), sep=\";\"))\n",
    "\n",
    "# Re-detect and verify:\n",
    "library(rmarkdown)\n",
    "rmarkdown::find_pandoc(cache = FALSE)\n",
    "rmarkdown::pandoc_available()\n",
    "rmarkdown::pandoc_version()\n",
    "\n",
    "# Also check the OS PATH lookup:\n",
    "system(\"pandoc --version\")\n",
    "Sys.which(\"pandoc\")\n"
   ]
  },
  {
   "cell_type": "code",
   "execution_count": 12,
   "id": "f6031174-117a-4072-abcc-e1eafd5691f8",
   "metadata": {},
   "outputs": [
    {
     "ename": "ERROR",
     "evalue": "Error in parse(text = input): <text>:1:5: unexpected symbol\n1: git remote\n        ^\n",
     "output_type": "error",
     "traceback": [
      "Error in parse(text = input): <text>:1:5: unexpected symbol\n1: git remote\n        ^\nTraceback:\n"
     ]
    }
   ],
   "source": [
    "git remote add origin \"https://github.com/drelhaj/Data2010.git\"\n",
    "git branch -M main\n",
    "git push -u origin main"
   ]
  }
 ],
 "metadata": {
  "kernelspec": {
   "display_name": "R",
   "language": "R",
   "name": "ir"
  },
  "language_info": {
   "codemirror_mode": "r",
   "file_extension": ".r",
   "mimetype": "text/x-r-source",
   "name": "R",
   "pygments_lexer": "r",
   "version": "4.5.1"
  }
 },
 "nbformat": 4,
 "nbformat_minor": 5
}
